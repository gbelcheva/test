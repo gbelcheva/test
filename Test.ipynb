{
 "cells": [
  {
   "cell_type": "code",
   "execution_count": 24,
   "metadata": {},
   "outputs": [
    {
     "name": "stdout",
     "output_type": "stream",
     "text": [
      "9685\n"
     ]
    },
    {
     "data": {
      "text/plain": [
       "35429"
      ]
     },
     "execution_count": 24,
     "metadata": {},
     "output_type": "execute_result"
    }
   ],
   "source": [
    "import requests\n",
    "from datetime import date\n",
    "\n",
    "today = date.today()\n",
    "today_string = today.strftime("%d-%m-%Y")\n",
    "print("today is: ", today_string)\n",
    "\n",
    "resp = requests.get(f'https://d.tousecurity.com/iptv-bulgaria-m3u-list-free-{today_string}/')\n",
    "if resp.ok:\n",
    "    parts = resp.text.split(today_string + '</a>')\n",
    "    parts = parts[len(parts)-2].split(\"https://d.tousecurity.com/wp-content/plugins/download-attachments/includes/download.php?id=\")\n",
    "    file_id = parts[len(parts)-1].split(\"\\\"\")[0]\n",
    "else:\n",
    "    print (\"Error fetching page: {}\".format(resp.status_code))\n",
    "    print (resp.text)\n",
    "\n",
    "print("latest id is: " + file_id)\n",
    "url = 'https://d.tousecurity.com/wp-content/plugins/download-attachments/includes/download.php?id=' + file_id\n",
    "r = requests.get(url, allow_redirects=True)\n",
    "open('test.m3u', 'wb').write(r.content)"
   ]
  },
  {
   "cell_type": "code",
   "execution_count": null,
   "metadata": {},
   "outputs": [],
   "source": []
  }
 ],
 "metadata": {
  "kernelspec": {
   "display_name": ".venv",
   "language": "python",
   "name": "python3"
  },
  "language_info": {
   "codemirror_mode": {
    "name": "ipython",
    "version": 3
   },
   "file_extension": ".py",
   "mimetype": "text/x-python",
   "name": "python",
   "nbconvert_exporter": "python",
   "pygments_lexer": "ipython3",
   "version": "3.7.16"
  },
  "orig_nbformat": 4,
  "vscode": {
   "interpreter": {
    "hash": "d07f6d7b4f25335a89be8202a530c4c1451be7de81f9f7001ba9b6e20d5ab0f4"
   }
  }
 },
 "nbformat": 4,
 "nbformat_minor": 2
}
